{
 "cells": [
  {
   "cell_type": "markdown",
   "metadata": {},
   "source": [
    "# CS 524 - Homework 8"
   ]
  },
  {
   "cell_type": "markdown",
   "metadata": {},
   "source": [
    "## Devin Johnson (djohnson58)"
   ]
  },
  {
   "cell_type": "markdown",
   "metadata": {},
   "source": [
    "### Problem 1"
   ]
  },
  {
   "cell_type": "markdown",
   "metadata": {},
   "source": [
    "#### Part A"
   ]
  },
  {
   "cell_type": "code",
   "execution_count": 4,
   "metadata": {},
   "outputs": [
    {
     "name": "stdout",
     "output_type": "stream",
     "text": [
      "Academic license - for non-commercial use only\r\n",
      "x1: 1.0\n",
      "x2: -0.0\n",
      "p*: 0.5\n"
     ]
    }
   ],
   "source": [
    "using JuMP, Gurobi\n",
    "\n",
    "m = Model(solver=GurobiSolver(OutputFlag=0))\n",
    "\n",
    "@variable(m, x1)\n",
    "@variable(m, x2)\n",
    "@constraint(m, 1 <= x1)\n",
    "@objective(m, Min, 0.5*(x1^2 + x2^2))\n",
    "solve(m)\n",
    "\n",
    "println(\"x1: \", getvalue(x1))\n",
    "println(\"x2: \", getvalue(x2))\n",
    "println(\"p*: \", getobjectivevalue(m))"
   ]
  },
  {
   "cell_type": "markdown",
   "metadata": {},
   "source": [
    "#### Part B"
   ]
  },
  {
   "cell_type": "markdown",
   "metadata": {},
   "source": [
    "We have:\n",
    "\n",
    "- min $\\frac{1}{2}(x_1^2 + x_2^2)$\n",
    "\n",
    "- s.t. $1 - x_1 \\leq 0$\n",
    "\n",
    "So our langrangian is: $L(x_1, x_2, \\lambda) = \\frac{1}{2}(x_1^2 + x_2^2) + \\lambda(1-x_1)$\n",
    "\n",
    "So $g(\\lambda) = inf(L(x_1,x_2,\\lambda))$."
   ]
  },
  {
   "cell_type": "markdown",
   "metadata": {},
   "source": [
    "#### Part C"
   ]
  },
  {
   "cell_type": "markdown",
   "metadata": {},
   "source": [
    "Then we take (partial) derivatives with respect to $x_1$ and $x_2$:\n",
    "\n",
    "- $\\frac{\\partial L}{\\partial x_1} = x_1 - \\lambda$\n",
    "- $\\frac{\\partial L}{\\partial x_2} = x_2$\n",
    "\n",
    "Setting each to equal $0$ and solving the system gives:\n",
    "\n",
    "- $x_1 = \\lambda$\n",
    "- $x_2 = 0$\n",
    "\n",
    "So the problem becomes:\n",
    "\n",
    " - max $\\frac{\\lambda^2}{2} + \\lambda - \\lambda^2$\n",
    " - s.t. $\\lambda \\geq 0$\n",
    " \n",
    "Solving in JuMP:"
   ]
  },
  {
   "cell_type": "code",
   "execution_count": 3,
   "metadata": {},
   "outputs": [
    {
     "name": "stdout",
     "output_type": "stream",
     "text": [
      "Academic license - for non-commercial use only\n",
      "Lambda: 1.0\n",
      "d*: 0.5\n"
     ]
    }
   ],
   "source": [
    "using JuMP, Gurobi\n",
    "\n",
    "m = Model(solver=GurobiSolver(OutputFlag=0))\n",
    "\n",
    "@variable(m, lambda >= 0)\n",
    "@objective(m, Max, (lambda^2)/2 + lambda - lambda^2)\n",
    "solve(m)\n",
    "\n",
    "println(\"Lambda: \", getvalue(lambda))\n",
    "println(\"d*: \", getobjectivevalue(m))"
   ]
  },
  {
   "cell_type": "markdown",
   "metadata": {},
   "source": [
    "We can see $d^* = p^*$ so we have strong duality and also that $x_1 = \\lambda = 1$ and $x_2 = 0$ just like the last part of the problem."
   ]
  },
  {
   "cell_type": "markdown",
   "metadata": {},
   "source": [
    "#### Part D"
   ]
  },
  {
   "cell_type": "markdown",
   "metadata": {},
   "source": [
    "Slater's constraint qualification states that if the optimization problem is convex and strictly feasible, strong duality is guaranteed. In our problem strict feasibility holds since there are feasible points inside of $1 - x_1 \\leq 0$. Convexity holds because $1-x_1 \\leq 0$ is a convex set. The objective function is also convex. So, slater's qualification holds and strong duality is guaranteed. We can see that $p^* = d^*$ above so we have strong duality."
   ]
  },
  {
   "cell_type": "markdown",
   "metadata": {},
   "source": [
    "### Problem 2"
   ]
  },
  {
   "cell_type": "markdown",
   "metadata": {},
   "source": [
    "#### Part A"
   ]
  },
  {
   "cell_type": "code",
   "execution_count": 10,
   "metadata": {},
   "outputs": [
    {
     "name": "stdout",
     "output_type": "stream",
     "text": [
      "Academic license - for non-commercial use only\r\n",
      "Pennies: 4.0\n",
      "Nickels: 0.0\n",
      "Dimes: 7.0\n",
      "Quarters: 1.0\n",
      "Halfdollars: -0.0\n",
      "Total number of coins: 12.0\n",
      "Total weight of coins: 31.546\n",
      "Total value of coins: 99.0\n"
     ]
    }
   ],
   "source": [
    "using JuMP, Gurobi\n",
    "\n",
    "m = Model(solver=GurobiSolver(OutputFlag=0))\n",
    "\n",
    "# Make a variable for the number of each type\n",
    "@variable(m, pennies >= 0, Int)\n",
    "@variable(m, nickels >= 0, Int)\n",
    "@variable(m, dimes >= 0, Int)\n",
    "@variable(m, quarters >= 0, Int)\n",
    "@variable(m, halfdollars >= 0, Int)\n",
    "\n",
    "# The amounts should add up to 99 cents\n",
    "@constraint(m, 1*pennies + 5*nickels + 10*dimes + 25*quarters + 50*halfdollars == 99)\n",
    "\n",
    "# Minimize the total weight\n",
    "@objective(m, Min, 2.5*pennies + 5*nickels + 2.268*dimes + 5.670*quarters + 11.340*halfdollars )\n",
    "\n",
    "solve(m)\n",
    "\n",
    "println(\"Pennies: \", getvalue(pennies))\n",
    "println(\"Nickels: \", getvalue(nickels))\n",
    "println(\"Dimes: \", getvalue(dimes))\n",
    "println(\"Quarters: \", getvalue(quarters))\n",
    "println(\"Halfdollars: \", getvalue(halfdollars))\n",
    "println(\"Total number of coins: \", getvalue(pennies) + getvalue(nickels)+ getvalue(dimes)+ getvalue(quarters)+ getvalue(halfdollars))\n",
    "println(\"Total weight of coins: \", getobjectivevalue(m))\n",
    "println(\"Total value of coins: \", 1*getvalue(pennies) + 5*getvalue(nickels) + 10*getvalue(dimes) + 25*getvalue(quarters) + 50*getvalue(halfdollars))\n"
   ]
  },
  {
   "cell_type": "markdown",
   "metadata": {},
   "source": [
    "#### Part B"
   ]
  },
  {
   "cell_type": "code",
   "execution_count": 9,
   "metadata": {},
   "outputs": [
    {
     "name": "stdout",
     "output_type": "stream",
     "text": [
      "Academic license - for non-commercial use only\r\n",
      "Pennies: 4.0\n",
      "Nickels: 0.0\n",
      "Dimes: 2.0\n",
      "Quarters: 1.0\n",
      "Halfdollars: 1.0\n",
      "Total number of coins: 8.0\n",
      "Total weight of coins: 31.546\n",
      "Total value of coins: 99.0\n"
     ]
    }
   ],
   "source": [
    "using JuMP, Gurobi\n",
    "\n",
    "m = Model(solver=GurobiSolver(OutputFlag=0))\n",
    "\n",
    "# Make a variable for the number of each type\n",
    "@variable(m, pennies >= 0, Int)\n",
    "@variable(m, nickels >= 0, Int)\n",
    "@variable(m, dimes >= 0, Int)\n",
    "@variable(m, quarters >= 0, Int)\n",
    "@variable(m, halfdollars >= 0, Int)\n",
    "\n",
    "# The combined weight should be no more than 35\n",
    "@constraint(m, 2.5*pennies + 5*nickels + 2.268*dimes + 5.670*quarters + 11.340*halfdollars <= 35)\n",
    "\n",
    "# The amounts should add up to 99 cents\n",
    "@constraint(m, 1*pennies + 5*nickels + 10*dimes + 25*quarters + 50*halfdollars == 99)\n",
    "\n",
    "# Minimize the total number of coins\n",
    "@objective(m, Min, pennies + nickels + dimes + quarters + halfdollars)\n",
    "\n",
    "solve(m)\n",
    "\n",
    "println(\"Pennies: \", getvalue(pennies))\n",
    "println(\"Nickels: \", getvalue(nickels))\n",
    "println(\"Dimes: \", getvalue(dimes))\n",
    "println(\"Quarters: \", getvalue(quarters))\n",
    "println(\"Halfdollars: \", getvalue(halfdollars))\n",
    "println(\"Total number of coins: \", getobjectivevalue(m))\n",
    "println(\"Total weight of coins: \", 2.5*getvalue(pennies) + 5*getvalue(nickels) + 2.268*getvalue(dimes) + 5.670*getvalue(quarters) + 11.340*getvalue(halfdollars))\n",
    "println(\"Total value of coins: \", 1*getvalue(pennies) + 5*getvalue(nickels) + 10*getvalue(dimes) + 25*getvalue(quarters) + 50*getvalue(halfdollars))"
   ]
  },
  {
   "cell_type": "markdown",
   "metadata": {},
   "source": [
    "It makes sense that we use the half dollar and quarter here because we can still stay under weight while adding a lot of value to our total value (minimizing coins used). Since the last part of the problem was trying to minimize weight, it makes sense why we didn't want to use a half dollar (but eneded up using more coins). Essentially what happens in part B is that we make the same weight and value but by using less coins. So the tradeoff is weight per coin vs value per coin."
   ]
  },
  {
   "cell_type": "markdown",
   "metadata": {},
   "source": [
    "### Problem 3"
   ]
  },
  {
   "cell_type": "code",
   "execution_count": 21,
   "metadata": {},
   "outputs": [
    {
     "name": "stdout",
     "output_type": "stream",
     "text": [
      "Academic license - for non-commercial use only\r\n",
      "P1 Produces 10000.0 computers.\n",
      "P2 Produces 8000.0 computers.\n",
      "P3 Produces -0.0 computers.\n",
      "P4 Produces 2000.0 computers.\n",
      "Profit is $2.56e7\n"
     ]
    }
   ],
   "source": [
    "using JuMP, Gurobi\n",
    "\n",
    "# Overall params\n",
    "computer_yearly_max = 20000\n",
    "computer_price = 3500\n",
    "\n",
    "# Company specific params\n",
    "p1_computer_cost = 1000\n",
    "p1_op_cost = 9000000\n",
    "p2_computer_cost = 1700\n",
    "p2_op_cost = 5000000\n",
    "p3_computer_cost = 2300\n",
    "p3_op_cost = 3000000\n",
    "p4_computer_cost = 2900\n",
    "p4_op_cost = 1000000\n",
    "\n",
    "m = Model(solver=GurobiSolver(OutputFlag=0))\n",
    "\n",
    "# Variables for how much to make at each plant\n",
    "@variable(m, p1 >= 0, Int)\n",
    "@variable(m, p2 >= 0, Int)\n",
    "@variable(m, p3 >= 0, Int)\n",
    "@variable(m, p4 >= 0, Int)\n",
    "\n",
    "# Whether a plant operates\n",
    "@variable(m, op1, Bin)\n",
    "@variable(m, op2, Bin)\n",
    "@variable(m, op3, Bin)\n",
    "@variable(m, op4, Bin)\n",
    "\n",
    "# Production capacities\n",
    "@constraint(m, p1 <= 10000)\n",
    "@constraint(m, p2 <= 8000)\n",
    "@constraint(m, p3 <= 9000)\n",
    "@constraint(m, p4 <= 6000)\n",
    "@constraint(m, p1 + p2 + p3 + p4 <= computer_yearly_max)\n",
    "\n",
    "# If a plant is operating\n",
    "@constraint(m, p1 <= computer_yearly_max*op1)\n",
    "@constraint(m, p2 <= computer_yearly_max*op2)\n",
    "@constraint(m, p3 <= computer_yearly_max*op3)\n",
    "@constraint(m, p4 <= computer_yearly_max*op4)\n",
    "\n",
    "# Maximize profit\n",
    "@objective(m, Max, \n",
    "    (p1 * (computer_price - p1_computer_cost) - op1*p1_op_cost) + \n",
    "    (p2 * (computer_price - p2_computer_cost) - op2*p2_op_cost) + \n",
    "    (p3 * (computer_price - p3_computer_cost) - op3*p3_op_cost) +\n",
    "    (p4 * (computer_price - p4_computer_cost) - op4*p4_op_cost))\n",
    "\n",
    "solve(m)\n",
    "println(\"P1 Produces \", getvalue(p1), \" \", \"computers.\")\n",
    "println(\"P2 Produces \", getvalue(p2), \" \", \"computers.\")\n",
    "println(\"P3 Produces \", getvalue(p3), \" \", \"computers.\")\n",
    "println(\"P4 Produces \", getvalue(p4), \" \", \"computers.\")\n",
    "println(\"Profit is \\$\", getobjectivevalue(m))"
   ]
  },
  {
   "cell_type": "markdown",
   "metadata": {},
   "source": [
    "### Problem 4"
   ]
  },
  {
   "cell_type": "code",
   "execution_count": 39,
   "metadata": {},
   "outputs": [
    {
     "name": "stdout",
     "output_type": "stream",
     "text": [
      "Academic license - for non-commercial use only\r\n",
      "Invest 0.0 million in option 1.\n",
      "Invest 0.0 million in option 2.\n",
      "Invest 35.0 million in option 3.\n",
      "Invest 5.0 million in option 4.\n",
      "Invest 22.5 million in option 5.\n",
      "Invest 17.5 million in option 6.\n",
      "Total profit is 13.5 million.\n"
     ]
    }
   ],
   "source": [
    "using JuMP, Gurobi\n",
    "\n",
    "m = Model(solver=GurobiSolver(OutputFlag=0))\n",
    "\n",
    "# Params\n",
    "min_investment = [3 2 9 5 12 4]\n",
    "max_investment = [27 12 35 15 46 18]\n",
    "exp_return = [0.13 0.09 0.17 0.1 0.22 0.12]\n",
    "total_investment = 80\n",
    "\n",
    "# Variables how much to invest in each option and binary investing or not\n",
    "@variable(m, investment_amt[1:6] >= 0)\n",
    "@variable(m, invested[1:6], Bin)\n",
    "\n",
    "# Investment in option cannot exceed max and must be more than min\n",
    "for i = 1:6\n",
    "    @constraint(m, investment_amt[i]*invested[i] <= max_investment[i])\n",
    "    @constraint(m, min_investment[i]*invested[i] <= investment_amt[i])\n",
    "end\n",
    "\n",
    "# Sum of investments less than 80 mil.\n",
    "@constraint(m, investment_amt .<= total_investment*invested)\n",
    "@constraint(m, sum(investment_amt[i] for i = 1:6) <= total_investment)\n",
    "\n",
    "# Option 3 less investment less than or equal to option 6\n",
    "@constraint(m, investment_amt[5] <= investment_amt[2] + investment_amt[4] + investment_amt[6])\n",
    "\n",
    "# If option 3 invested in, then option 6 must be too\n",
    "@constraint(m, invested[3] <= invested[6])\n",
    "\n",
    "# Maximize profit from investments\n",
    "@objective(m, Max, sum(investment_amt[i] * exp_return[i] for i = 1:6))\n",
    "\n",
    "solve(m)\n",
    "\n",
    "println(\"Invest \", getvalue(investment_amt[1]), \" million in option 1.\")\n",
    "println(\"Invest \", getvalue(investment_amt[2]), \" million in option 2.\")\n",
    "println(\"Invest \", getvalue(investment_amt[3]), \" million in option 3.\")\n",
    "println(\"Invest \", getvalue(investment_amt[4]), \" million in option 4.\")\n",
    "println(\"Invest \", getvalue(investment_amt[5]), \" million in option 5.\")\n",
    "println(\"Invest \", getvalue(investment_amt[6]), \" million in option 6.\")\n",
    "println(\"Total profit is \", getobjectivevalue(m), \" million.\")"
   ]
  }
 ],
 "metadata": {
  "kernelspec": {
   "display_name": "Julia 1.0.3",
   "language": "julia",
   "name": "julia-1.0"
  },
  "language_info": {
   "file_extension": ".jl",
   "mimetype": "application/julia",
   "name": "julia",
   "version": "1.0.3"
  }
 },
 "nbformat": 4,
 "nbformat_minor": 2
}
