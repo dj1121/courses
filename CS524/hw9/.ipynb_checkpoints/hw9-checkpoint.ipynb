{
 "cells": [
  {
   "cell_type": "markdown",
   "metadata": {},
   "source": [
    "# CS 524 - Homework 9"
   ]
  },
  {
   "cell_type": "markdown",
   "metadata": {},
   "source": [
    "## Devin Johnson (djohnson58)"
   ]
  },
  {
   "cell_type": "markdown",
   "metadata": {},
   "source": [
    "### Problem 1"
   ]
  },
  {
   "cell_type": "code",
   "execution_count": 9,
   "metadata": {},
   "outputs": [
    {
     "name": "stdout",
     "output_type": "stream",
     "text": [
      "Academic license - for non-commercial use only\r\n",
      "Optimal\n",
      "Districts with majority: 3.0\n",
      "District assignments: [0.0 0.0 0.0 1.0 0.0; 0.0 1.0 0.0 0.0 0.0; 1.0 0.0 0.0 0.0 0.0; 1.0 0.0 0.0 0.0 0.0; 0.0 0.0 0.0 0.0 1.0; 0.0 1.0 0.0 0.0 0.0; 0.0 0.0 1.0 0.0 0.0; 1.0 0.0 0.0 0.0 0.0; 0.0 0.0 0.0 1.0 0.0; 0.0 0.0 1.0 0.0 0.0]\n"
     ]
    }
   ],
   "source": [
    "using JuMP, Gurobi\n",
    "\n",
    "# Number of districts desired\n",
    "d = 5\n",
    "\n",
    "# Number of cities\n",
    "c = 10\n",
    "\n",
    "# Make a 2d array of cities and their respective dems/repubs\n",
    "data =    [80 34\n",
    "           60 44\n",
    "           40 44\n",
    "           20 24\n",
    "           40 114\n",
    "           40 64\n",
    "           70 14\n",
    "           50 44\n",
    "           70 54\n",
    "           70 64]\n",
    "\n",
    "m = Model(solver=GurobiSolver(OutputFlag=0))\n",
    "\n",
    "# Let us know whether a district has a majority of democrats (1 if yes, 0 if no)\n",
    "@variable(m, dem_maj[1:d], Bin)\n",
    "\n",
    "# Let us know if a city belongs to a district (1 if yes, 0 if no)\n",
    "@variable(m, district_assignment[1:c, 1:d], Bin)\n",
    "\n",
    "\n",
    "# For each district\n",
    "for i = 1:d\n",
    "    # 150 <= City's (repubs + dems) * (assignment to this district 0 or 1) <= 250\n",
    "    # make sure voter limits not surpassed\n",
    "    @constraint(m, 150 <= sum((data[j,1] + data[j,2])*district_assignment[j,i] \n",
    "            for j = 1:c))\n",
    "end\n",
    "\n",
    "# For each district\n",
    "for i = 1:d\n",
    "    # 150 <= City's (repubs + dems) * (assignment to this district 0 or 1) <= 250\n",
    "    # make sure voter limits not surpassed\n",
    "    @constraint(m, sum((data[j,1] + data[j,2])*district_assignment[j,i] \n",
    "            for j = 1:c) <= 250)\n",
    "end\n",
    "\n",
    "# For each district\n",
    "for i = 1:d\n",
    "    @constraint(m, sum((data[j,2] - data[j,1])*district_assignment[j,i] \n",
    "            for j = 1:c) >= -250 *(1-dem_maj[i]))\n",
    "end\n",
    "\n",
    "# Each city should only belong to one district\n",
    "for i = 1:c\n",
    "    @constraint(m, sum(district_assignment[i,:]) == 1)\n",
    "end\n",
    "\n",
    "# Get the most democratic majority districts\n",
    "@objective(m, Max, sum(dem_maj))\n",
    "\n",
    "status = solve(m)\n",
    "\n",
    "println(status)\n",
    "println(\"Districts with majority: \", getobjectivevalue(m))\n",
    "println(\"District assignments: \", getvalue(district_assignment))"
   ]
  },
  {
   "cell_type": "markdown",
   "metadata": {},
   "source": [
    "### Problem 2"
   ]
  },
  {
   "cell_type": "code",
   "execution_count": 67,
   "metadata": {},
   "outputs": [
    {
     "data": {
      "text/plain": [
       "print_board (generic function with 1 method)"
      ]
     },
     "execution_count": 67,
     "metadata": {},
     "output_type": "execute_result"
    }
   ],
   "source": [
    "# Function to print board like from sudoku example\n",
    "function print_board(arr)\n",
    "    println(\"*---*---*---*---*---*---*---*---*\")\n",
    "    for i = 1:8\n",
    "        for j = 1:8\n",
    "            print(\"|\")\n",
    "            if(arr[i,j] == 1)\n",
    "                print(\" x \")\n",
    "            else\n",
    "                print(\"   \")\n",
    "            end\n",
    "        end\n",
    "        println(\"|\")\n",
    "        println(\"*---*---*---*---*---*---*---*---*\")\n",
    "    end\n",
    "end"
   ]
  },
  {
   "cell_type": "markdown",
   "metadata": {},
   "source": [
    "#### Part A"
   ]
  },
  {
   "cell_type": "code",
   "execution_count": 68,
   "metadata": {
    "scrolled": true
   },
   "outputs": [
    {
     "name": "stdout",
     "output_type": "stream",
     "text": [
      "Academic license - for non-commercial use only\n",
      "Optimal\n",
      "*---*---*---*---*---*---*---*---*\n",
      "|   |   |   | x |   |   |   |   |\n",
      "*---*---*---*---*---*---*---*---*\n",
      "|   |   |   |   |   |   | x |   |\n",
      "*---*---*---*---*---*---*---*---*\n",
      "|   |   |   |   | x |   |   |   |\n",
      "*---*---*---*---*---*---*---*---*\n",
      "|   |   | x |   |   |   |   |   |\n",
      "*---*---*---*---*---*---*---*---*\n",
      "| x |   |   |   |   |   |   |   |\n",
      "*---*---*---*---*---*---*---*---*\n",
      "|   |   |   |   |   | x |   |   |\n",
      "*---*---*---*---*---*---*---*---*\n",
      "|   |   |   |   |   |   |   | x |\n",
      "*---*---*---*---*---*---*---*---*\n",
      "|   | x |   |   |   |   |   |   |\n",
      "*---*---*---*---*---*---*---*---*\n"
     ]
    }
   ],
   "source": [
    "using JuMP, Gurobi\n",
    "\n",
    "m = Model(solver=GurobiSolver(OutputFlag=0))\n",
    "\n",
    "# Make the 8x8 board\n",
    "@variable(m, board[1:8, 1:8], Bin)\n",
    "\n",
    "# Each row must sum to one (no queens per same row)\n",
    "for i = 1:8\n",
    "   @constraint(m, sum(board[i,j] for j = 1:8) == 1)\n",
    "end\n",
    "\n",
    "# Each column must sum to one (no queens per same column)\n",
    "for i = 1:8\n",
    "   @constraint(m, sum(board[j,i] for j = 1:8) == 1)\n",
    "end\n",
    "\n",
    "# We can divide work based on the two main diagonals\n",
    "# Left side of (bottom left to top right) diagonal \n",
    "for col = 2:9\n",
    "    @constraint(m, sum(board[row,col-row] for row = 1:col-1) <= 1)\n",
    "end\n",
    "\n",
    "# Right side of (bottom left to top right) diagonal \n",
    "for col = 10:16\n",
    "    @constraint(m, sum(board[row,col-row] for row = col-8:8) <= 1)\n",
    "end\n",
    "\n",
    "# Left side of (top left to bottom right) diagonal\n",
    "for col = -7:-1\n",
    "    @constraint(m, sum(board[row, row+col] for row = -col+1:8) <= 1)\n",
    "end\n",
    "\n",
    "# Right side of (top left to bottom right) diagonal\n",
    "for col = 0:7\n",
    "    @constraint(m, sum(board[row, row+col] for row = 1:8-col) <= 1)\n",
    "end\n",
    "\n",
    "# Minimum assigned\n",
    "@objective(m, Min, sum(board))\n",
    "\n",
    "status = solve(m)\n",
    "println(status)\n",
    "print_board(getvalue(board))"
   ]
  },
  {
   "cell_type": "markdown",
   "metadata": {},
   "source": [
    "#### Part B"
   ]
  },
  {
   "cell_type": "code",
   "execution_count": 69,
   "metadata": {},
   "outputs": [
    {
     "name": "stdout",
     "output_type": "stream",
     "text": [
      "Academic license - for non-commercial use only\n",
      "Optimal\n",
      "*---*---*---*---*---*---*---*---*\n",
      "|   |   |   |   |   | x |   |   |\n",
      "*---*---*---*---*---*---*---*---*\n",
      "|   |   |   | x |   |   |   |   |\n",
      "*---*---*---*---*---*---*---*---*\n",
      "|   |   |   |   |   |   | x |   |\n",
      "*---*---*---*---*---*---*---*---*\n",
      "| x |   |   |   |   |   |   |   |\n",
      "*---*---*---*---*---*---*---*---*\n",
      "|   |   |   |   |   |   |   | x |\n",
      "*---*---*---*---*---*---*---*---*\n",
      "|   | x |   |   |   |   |   |   |\n",
      "*---*---*---*---*---*---*---*---*\n",
      "|   |   |   |   | x |   |   |   |\n",
      "*---*---*---*---*---*---*---*---*\n",
      "|   |   | x |   |   |   |   |   |\n",
      "*---*---*---*---*---*---*---*---*\n"
     ]
    }
   ],
   "source": [
    "using JuMP, Gurobi\n",
    "\n",
    "m = Model(solver=GurobiSolver(OutputFlag=0))\n",
    "\n",
    "# Make the 8x8 board\n",
    "@variable(m, board[1:8, 1:8], Bin)\n",
    "\n",
    "# Each row must sum to one (no queens per same row)\n",
    "for i = 1:8\n",
    "   @constraint(m, sum(board[i,j] for j = 1:8) == 1)\n",
    "end\n",
    "\n",
    "# Each column must sum to one (no queens per same column)\n",
    "for i = 1:8\n",
    "   @constraint(m, sum(board[j,i] for j = 1:8) == 1)\n",
    "end\n",
    "\n",
    "# We can divide work based on the two main diagonals\n",
    "# Left side of (bottom left to top right) diagonal \n",
    "for col = 2:9\n",
    "    @constraint(m, sum(board[row,col-row] for row = 1:col-1) <= 1)\n",
    "end\n",
    "\n",
    "# Right side of (bottom left to top right) diagonal \n",
    "for col = 10:16\n",
    "    @constraint(m, sum(board[row,col-row] for row = col-8:8) <= 1)\n",
    "end\n",
    "\n",
    "# Left side of (top left to bottom right) diagonal\n",
    "for col = -7:-1\n",
    "    @constraint(m, sum(board[row, row+col] for row = -col+1:8) <= 1)\n",
    "end\n",
    "\n",
    "# Right side of (top left to bottom right) diagonal\n",
    "for col = 0:7\n",
    "    @constraint(m, sum(board[row, row+col] for row = 1:8-col) <= 1)\n",
    "end\n",
    "\n",
    "# Point symmetry\n",
    "for row = 1:8\n",
    "    for col = 1:8\n",
    "        @constraint(m, board[row,col] == board[9-row, 9-col])\n",
    "    end\n",
    "end\n",
    "\n",
    "# Minimum assigned\n",
    "@objective(m, Min, sum(board))\n",
    "\n",
    "status = solve(m)\n",
    "println(status)\n",
    "print_board(getvalue(board))"
   ]
  },
  {
   "cell_type": "markdown",
   "metadata": {},
   "source": [
    "#### Part C"
   ]
  },
  {
   "cell_type": "code",
   "execution_count": 70,
   "metadata": {},
   "outputs": [
    {
     "name": "stdout",
     "output_type": "stream",
     "text": [
      "Academic license - for non-commercial use only\r\n",
      "Optimal\n",
      "*---*---*---*---*---*---*---*---*\n",
      "|   |   | x |   |   |   |   |   |\n",
      "*---*---*---*---*---*---*---*---*\n",
      "|   |   |   |   |   |   |   |   |\n",
      "*---*---*---*---*---*---*---*---*\n",
      "|   |   |   |   |   |   |   | x |\n",
      "*---*---*---*---*---*---*---*---*\n",
      "|   |   |   |   |   |   |   |   |\n",
      "*---*---*---*---*---*---*---*---*\n",
      "|   |   |   |   | x |   |   |   |\n",
      "*---*---*---*---*---*---*---*---*\n",
      "| x |   |   |   |   |   |   |   |\n",
      "*---*---*---*---*---*---*---*---*\n",
      "|   |   |   |   |   |   |   |   |\n",
      "*---*---*---*---*---*---*---*---*\n",
      "|   |   |   |   |   | x |   |   |\n",
      "*---*---*---*---*---*---*---*---*\n"
     ]
    }
   ],
   "source": [
    "using JuMP, Gurobi\n",
    "\n",
    "m = Model(solver=GurobiSolver(OutputFlag=0))\n",
    "\n",
    "# Make the 8x8 board\n",
    "@variable(m, board[1:8, 1:8], Bin)\n",
    "\n",
    "# Each cell needs to have a queen in its same column, row, or diagonal\n",
    "for row = 1:8\n",
    "    for col = 1:8\n",
    "        @constraint(m, (sum(board[row,d] for d = 1:8) + \n",
    "                        sum(board[d,col] for d = 1:8) +\n",
    "                        sum(board[d,row+col-d] for d = max(1,(row+col-8)):min(8,(row+col-1))) +\n",
    "                        sum(board[d,col-row+d] for d = max(1,-col+row+1):min(8,8-col+row)))\n",
    "                        >= 1)\n",
    "    end\n",
    "end\n",
    "\n",
    "@objective(m, Min,sum(board))\n",
    "status = solve(m)\n",
    "println(status)\n",
    "print_board(getvalue(board))"
   ]
  },
  {
   "cell_type": "markdown",
   "metadata": {},
   "source": [
    "#### Part D"
   ]
  },
  {
   "cell_type": "code",
   "execution_count": 71,
   "metadata": {},
   "outputs": [
    {
     "name": "stdout",
     "output_type": "stream",
     "text": [
      "Academic license - for non-commercial use only\n",
      "Optimal\n",
      "*---*---*---*---*---*---*---*---*\n",
      "|   |   |   |   |   |   |   |   |\n",
      "*---*---*---*---*---*---*---*---*\n",
      "|   |   | x |   |   |   |   |   |\n",
      "*---*---*---*---*---*---*---*---*\n",
      "|   |   |   |   |   |   |   | x |\n",
      "*---*---*---*---*---*---*---*---*\n",
      "|   |   |   | x |   |   |   |   |\n",
      "*---*---*---*---*---*---*---*---*\n",
      "|   |   |   |   | x |   |   |   |\n",
      "*---*---*---*---*---*---*---*---*\n",
      "| x |   |   |   |   |   |   |   |\n",
      "*---*---*---*---*---*---*---*---*\n",
      "|   |   |   |   |   | x |   |   |\n",
      "*---*---*---*---*---*---*---*---*\n",
      "|   |   |   |   |   |   |   |   |\n",
      "*---*---*---*---*---*---*---*---*\n"
     ]
    }
   ],
   "source": [
    "using JuMP, Gurobi\n",
    "\n",
    "m = Model(solver=GurobiSolver(OutputFlag=0))\n",
    "\n",
    "# Make the 8x8 board\n",
    "@variable(m, board[1:8, 1:8], Bin)\n",
    "\n",
    "# Each cell needs to have a queen in its same column, row, or diagonal\n",
    "for row = 1:8\n",
    "    for col = 1:8\n",
    "        @constraint(m, (sum(board[row,d] for d = 1:8) + \n",
    "                        sum(board[d,col] for d = 1:8) +\n",
    "                        sum(board[d,row+col-d] for d = max(1,(row+col-8)):\n",
    "                        min(8,(row+col-1))) +\n",
    "                        sum(board[d,col-row+d] for d = max(1,-col+row+1):\n",
    "                        min(8,8-col+row)))\n",
    "                        >= 1)\n",
    "    end\n",
    "end\n",
    "\n",
    "# Point symmetry\n",
    "for row = 1:8\n",
    "    for col = 1:8\n",
    "        @constraint(m, board[row,col] == board[9-row, 9-col])\n",
    "    end\n",
    "end\n",
    "\n",
    "@objective(m, Min,sum(board))\n",
    "status = solve(m)\n",
    "println(status)\n",
    "print_board(getvalue(board))"
   ]
  },
  {
   "cell_type": "markdown",
   "metadata": {},
   "source": [
    "Yes, the number changes. Now we have 6 queens."
   ]
  },
  {
   "cell_type": "markdown",
   "metadata": {},
   "source": [
    "### Problem 3"
   ]
  },
  {
   "cell_type": "code",
   "execution_count": 80,
   "metadata": {},
   "outputs": [
    {
     "name": "stdout",
     "output_type": "stream",
     "text": [
      "Academic license - for non-commercial use only\r\n",
      "Run time: 400.9\n",
      "Assignment: \n",
      "     A | B | C | D | E |\n",
      "A|  0.0 0.0 1.0 0.0 0.0\n",
      "B|  0.0 0.0 0.0 0.0 0.0\n",
      "C|  0.0 0.0 0.0 1.0 0.0\n",
      "D|  0.0 1.0 0.0 0.0 0.0\n",
      "E|  1.0 0.0 0.0 0.0 0.0\n"
     ]
    }
   ],
   "source": [
    "using JuMP, Gurobi\n",
    "\n",
    "# Average run times for 400 meters\n",
    "# I'm assuming this is just something we can add\n",
    "# onto the objective since everyone has to run anyway\n",
    "avg_time = [82.5 77.1 81.3 74.9 80.6]\n",
    "\n",
    "# Take over times\n",
    "take_over =    [0 1.1 1.3 1.9 2.1\n",
    "               1.2 0 1.7 1.0 1.8\n",
    "               1.7 1.4 0 0.9 1.7\n",
    "               2.1 0.8 1.6 0 2.4\n",
    "               1.5 1.2 1.9 2.3 0]\n",
    "\n",
    "m = Model(solver=GurobiSolver(OutputFlag=0))\n",
    "\n",
    "# Decide which relay to do\n",
    "@variable(m, x[1:5,1:5], Bin)\n",
    "\n",
    "# It doesn't make sense for a runner to pass to themself\n",
    "for row = 1:5\n",
    "    @constraint(m, x[row,row] == 0)\n",
    "end\n",
    "\n",
    "# Must be 4 passes\n",
    "@constraint(m, sum(x) == 4)\n",
    "\n",
    "# Sum of rows <= 1\n",
    "for i = 1:5\n",
    "   @constraint(m, sum(x[i,j] for j = 1:5) <=  1)\n",
    "end\n",
    "\n",
    "# Sum of cols <= 1\n",
    "for i = 1:5\n",
    "   @constraint(m, sum(x[j,i] for j = 1:5) <= 1)\n",
    "end\n",
    "\n",
    "# Every row + its corresponding column sums to at least 1\n",
    "# 1 if only sending or receiving and 2 if sending and receiving\n",
    "for i = 1:5\n",
    "    @constraint(m, 1 <= sum(x[i,j] for j = 1:5) + sum(x[j,i] for j = 1:5))\n",
    "end\n",
    "for i = 1:5\n",
    "    @constraint(m, sum(x[i,j] for j = 1:5) + sum(x[j,i] for j = 1:5) <= 2)\n",
    "end\n",
    "\n",
    "# Times every cell by take over time\n",
    "# Objective is to minmize the takeover time for 5 runners\n",
    "@objective(m, Min, sum(x[i,j]*take_over[i,j] for i = 1:5, j = 1:5))\n",
    "\n",
    "status = solve(m)\n",
    "println(\"Run time: \", getobjectivevalue(m) + sum(avg_time))\n",
    "println(\"Assignment: \")\n",
    "println(\"     A | B | C | D | E |\")\n",
    "for i = 1:5\n",
    "    if i == 1\n",
    "        print(\"A|  \")\n",
    "    end\n",
    "    \n",
    "    if i == 2\n",
    "        print(\"B|  \")\n",
    "    end\n",
    "    \n",
    "    if i == 3\n",
    "        print(\"C|  \")\n",
    "    end\n",
    "    \n",
    "    if i == 4\n",
    "        print(\"D|  \")\n",
    "    end\n",
    "    \n",
    "    if i == 5\n",
    "        print(\"E|  \")\n",
    "    end\n",
    "    \n",
    "    for j = 1:5\n",
    "        if j == 5\n",
    "            println(abs(getvalue(x[i,j])))\n",
    "        else\n",
    "            print(abs(getvalue(x[i,j])), \" \")\n",
    "        end\n",
    "    end\n",
    "end\n"
   ]
  },
  {
   "cell_type": "markdown",
   "metadata": {},
   "source": [
    "So the order is Elisa, Alice, Cindy, David, Bob"
   ]
  },
  {
   "cell_type": "code",
   "execution_count": null,
   "metadata": {},
   "outputs": [],
   "source": []
  }
 ],
 "metadata": {
  "kernelspec": {
   "display_name": "Julia 1.0.3",
   "language": "julia",
   "name": "julia-1.0"
  },
  "language_info": {
   "file_extension": ".jl",
   "mimetype": "application/julia",
   "name": "julia",
   "version": "1.0.3"
  }
 },
 "nbformat": 4,
 "nbformat_minor": 2
}
