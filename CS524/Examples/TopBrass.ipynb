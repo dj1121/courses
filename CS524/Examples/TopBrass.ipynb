{
 "cells": [
  {
   "cell_type": "markdown",
   "metadata": {},
   "source": [
    "# Top Brass Trophy problem (Ex. 5.1 in Rardin'98)\n",
    "\n",
    "Top Brass Trophy Company makes large championship trophies for youth athletic leagues. At the moment, they are planning production for fall sports: football and soccer. Each football trophy has a wood base, an engraved plaque, a large brass football on top, and returns 12 dollars in profit. Soccer trophies are similar except that a brass soccer ball is on top, and the unit profit is only 9 dollars. Since the football has an asymmetric shape, its base requires 4 board feet of wood; the soccer base requires only 2 board feet. At the moment there are 1000 brass footballs in stock, 1500 soccer balls, 1750 plaques, and 4800 board feet of wood. What trophies should be produced from these supplies to maximize total profit assuming that all that are made can be sold?"
   ]
  },
  {
   "cell_type": "markdown",
   "metadata": {},
   "source": [
    "### Minimal solution"
   ]
  },
  {
   "cell_type": "code",
   "execution_count": 1,
   "metadata": {
    "scrolled": true
   },
   "outputs": [
    {
     "name": "stderr",
     "output_type": "stream",
     "text": [
      "┌ Info: Precompiling JuMP [4076af6c-e467-56ae-b986-b466b2749572]\n",
      "└ @ Base loading.jl:1192\n",
      "┌ Info: Precompiling Clp [e2554f3b-3117-50c0-817c-e040a3ddf72d]\n",
      "└ @ Base loading.jl:1192\n"
     ]
    },
    {
     "data": {
      "text/latex": [
       "$$ \\begin{alignat*}{1}\\max\\quad & 12 f + 9 s\\\\\n",
       "\\text{Subject to} \\quad & 4 f + 2 s \\leq 4800\\\\\n",
       " & f + s \\leq 1750\\\\\n",
       " & 0 \\leq f \\leq 1000\\\\\n",
       " & 0 \\leq s \\leq 1500\\\\\n",
       "\\end{alignat*}\n",
       " $$"
      ],
      "text/plain": [
       "Maximization problem with:\n",
       " * 2 linear constraints\n",
       " * 2 variables\n",
       "Solver is Clp"
      ]
     },
     "execution_count": 1,
     "metadata": {},
     "output_type": "execute_result"
    }
   ],
   "source": [
    "using JuMP, Clp\n",
    "\n",
    "m = Model(solver = ClpSolver())\n",
    "\n",
    "@variable(m, 0 <= f <= 1000)           # football trophies\n",
    "@variable(m, 0 <= s <= 1500)           # soccer trophies\n",
    "@constraint(m, 4f + 2s <= 4800)        # total board feet of wood\n",
    "@constraint(m, f + s <= 1750)          # total number of plaques\n",
    "@objective(m, Max, 12f + 9s)           # maximize profit\n",
    "\n",
    "m\n"
   ]
  },
  {
   "cell_type": "code",
   "execution_count": 2,
   "metadata": {},
   "outputs": [
    {
     "name": "stdout",
     "output_type": "stream",
     "text": [
      "Max 12 f + 9 s\n",
      "Subject to\n",
      " 4 f + 2 s <= 4800\n",
      " f + s <= 1750\n",
      " 0 <= f <= 1000\n",
      " 0 <= s <= 1500\n",
      "\n"
     ]
    }
   ],
   "source": [
    "println(m)"
   ]
  },
  {
   "cell_type": "code",
   "execution_count": 3,
   "metadata": {},
   "outputs": [
    {
     "name": "stdout",
     "output_type": "stream",
     "text": [
      "Optimal\n",
      "Build 650.0 football trophies.\n",
      "Build 1100.0 soccer trophies.\n",
      "Total profit will be $17700.0\n"
     ]
    }
   ],
   "source": [
    "status = solve(m)\n",
    "\n",
    "println(status)\n",
    "println(\"Build \", getvalue(f), \" football trophies.\")\n",
    "println(\"Build \", getvalue(s), \" soccer trophies.\")\n",
    "println(\"Total profit will be \\$\", getobjectivevalue(m))"
   ]
  },
  {
   "cell_type": "code",
   "execution_count": 4,
   "metadata": {},
   "outputs": [
    {
     "name": "stdout",
     "output_type": "stream",
     "text": [
      "Football trophies: 650.0\n",
      "Soccer trophies: 1100.0\n"
     ]
    }
   ],
   "source": [
    "using JuMP\n",
    "println(\"Football trophies: \",getvalue(f))\n",
    "println(\"Soccer trophies: \",getvalue(s))"
   ]
  },
  {
   "cell_type": "code",
   "execution_count": null,
   "metadata": {},
   "outputs": [],
   "source": []
  },
  {
   "cell_type": "code",
   "execution_count": 6,
   "metadata": {},
   "outputs": [
    {
     "name": "stdout",
     "output_type": "stream",
     "text": [
      "\u001b[32m\u001b[1m  Updating\u001b[22m\u001b[39m registry at `C:\\Users\\Devin\\.juliapro\\registries\\JuliaPro`\n",
      "\u001b[32m\u001b[1m  Updating\u001b[22m\u001b[39m git-repo `https://pkg.juliacomputing.com//registry/JuliaPro`\n",
      "\u001b[?25l\u001b[2K\u001b[?25h\u001b[32m\u001b[1m Resolving\u001b[22m\u001b[39m package versions...\n",
      "\u001b[32m\u001b[1m Installed\u001b[22m\u001b[39m ECOS ─ v0.9.2\n",
      "\u001b[32m\u001b[1m  Updating\u001b[22m\u001b[39m `C:\\JuliaPro-1.0.2.1\\pkgs-1.0.2.1\\environments\\JuliaPro_v1.0.2.1\\Project.toml`\n",
      " \u001b[90m [e2685f51]\u001b[39m\u001b[92m + ECOS v0.9.2\u001b[39m\n",
      "\u001b[32m\u001b[1m  Updating\u001b[22m\u001b[39m `C:\\JuliaPro-1.0.2.1\\pkgs-1.0.2.1\\environments\\JuliaPro_v1.0.2.1\\Manifest.toml`\n",
      " \u001b[90m [e2685f51]\u001b[39m\u001b[92m + ECOS v0.9.2\u001b[39m\n",
      "\u001b[32m\u001b[1m  Building\u001b[22m\u001b[39m ECOS → `C:\\Users\\Devin\\.juliapro\\packages\\ECOS\\MuVjE\\deps\\build.log`\n",
      "\u001b[32m\u001b[1m Resolving\u001b[22m\u001b[39m package versions...\n",
      "\u001b[32m\u001b[1m Installed\u001b[22m\u001b[39m SCS ─ v0.4.1\n",
      "\u001b[32m\u001b[1m  Updating\u001b[22m\u001b[39m `C:\\JuliaPro-1.0.2.1\\pkgs-1.0.2.1\\environments\\JuliaPro_v1.0.2.1\\Project.toml`\n",
      " \u001b[90m [c946c3f1]\u001b[39m\u001b[92m + SCS v0.4.1\u001b[39m\n",
      "\u001b[32m\u001b[1m  Updating\u001b[22m\u001b[39m `C:\\JuliaPro-1.0.2.1\\pkgs-1.0.2.1\\environments\\JuliaPro_v1.0.2.1\\Manifest.toml`\n",
      " \u001b[90m [c946c3f1]\u001b[39m\u001b[92m + SCS v0.4.1\u001b[39m\n",
      "\u001b[32m\u001b[1m  Building\u001b[22m\u001b[39m SCS → `C:\\Users\\Devin\\.juliapro\\packages\\SCS\\iHNl7\\deps\\build.log`\n",
      "\u001b[32m\u001b[1m Resolving\u001b[22m\u001b[39m package versions...\n",
      "\u001b[32m\u001b[1m Installed\u001b[22m\u001b[39m Cbc ───────────── v0.4.3\n",
      "\u001b[32m\u001b[1m Installed\u001b[22m\u001b[39m WinRPM ────────── v0.4.2\n",
      "\u001b[32m\u001b[1m Installed\u001b[22m\u001b[39m Libz ──────────── v1.0.0\n",
      "\u001b[32m\u001b[1m Installed\u001b[22m\u001b[39m LibCURL ───────── v0.4.1\n",
      "\u001b[32m\u001b[1m Installed\u001b[22m\u001b[39m LibExpat ──────── v0.5.0\n",
      "\u001b[32m\u001b[1m Installed\u001b[22m\u001b[39m BufferedStreams ─ v1.0.0\n",
      "\u001b[32m\u001b[1m Installed\u001b[22m\u001b[39m HTTPClient ────── v0.2.1\n",
      "\u001b[32m\u001b[1m Installed\u001b[22m\u001b[39m Homebrew ──────── v0.7.0\n",
      "\u001b[32m\u001b[1m  Updating\u001b[22m\u001b[39m `C:\\JuliaPro-1.0.2.1\\pkgs-1.0.2.1\\environments\\JuliaPro_v1.0.2.1\\Project.toml`\n",
      " \u001b[90m [9961bab8]\u001b[39m\u001b[92m + Cbc v0.4.3\u001b[39m\n",
      "\u001b[32m\u001b[1m  Updating\u001b[22m\u001b[39m `C:\\JuliaPro-1.0.2.1\\pkgs-1.0.2.1\\environments\\JuliaPro_v1.0.2.1\\Manifest.toml`\n",
      " \u001b[90m [e1450e63]\u001b[39m\u001b[92m + BufferedStreams v1.0.0\u001b[39m\n",
      " \u001b[90m [9961bab8]\u001b[39m\u001b[92m + Cbc v0.4.3\u001b[39m\n",
      " \u001b[90m [0862f596]\u001b[39m\u001b[92m + HTTPClient v0.2.1\u001b[39m\n",
      " \u001b[90m [d9be37ee]\u001b[39m\u001b[92m + Homebrew v0.7.0\u001b[39m\n",
      " \u001b[90m [b27032c2]\u001b[39m\u001b[92m + LibCURL v0.4.1\u001b[39m\n",
      " \u001b[90m [522f3ed2]\u001b[39m\u001b[92m + LibExpat v0.5.0\u001b[39m\n",
      " \u001b[90m [2ec943e9]\u001b[39m\u001b[92m + Libz v1.0.0\u001b[39m\n",
      " \u001b[90m [c17dfb99]\u001b[39m\u001b[92m + WinRPM v0.4.2\u001b[39m\n",
      "\u001b[32m\u001b[1m  Building\u001b[22m\u001b[39m LibCURL ─→ `C:\\Users\\Devin\\.juliapro\\packages\\LibCURL\\OoXMv\\deps\\build.log`\n",
      "\u001b[32m\u001b[1m  Building\u001b[22m\u001b[39m WinRPM ──→ `C:\\Users\\Devin\\.juliapro\\packages\\WinRPM\\Y9QdZ\\deps\\build.log`\n",
      "\u001b[32m\u001b[1m  Building\u001b[22m\u001b[39m Homebrew → `C:\\Users\\Devin\\.juliapro\\packages\\Homebrew\\l8kUw\\deps\\build.log`\n",
      "\u001b[32m\u001b[1m  Building\u001b[22m\u001b[39m Cbc ─────→ `C:\\Users\\Devin\\.juliapro\\packages\\Cbc\\CiYDc\\deps\\build.log`\n"
     ]
    },
    {
     "name": "stderr",
     "output_type": "stream",
     "text": [
      "┌ Error: Error building `Cbc`: \n",
      "│ \n",
      "│ ERROR: The system cannot find the file specified.\n",
      "│ C:\\Users\\Devin\\.juliapro\\packages\\WinRPM\\Y9QdZ\\cache\\2\\mingw64-libstdc%2B%2B6-8.2.0-2.6.noarch.cpio\n",
      "│ \n",
      "│ \n",
      "│ \n",
      "│ System ERROR:\n",
      "│ The system cannot find the file specified.\n",
      "│ [ Info: Updating WinRPM package list\n",
      "│ [ Info: Downloading https://cache.julialang.org/http://download.opensuse.org/repositories/windows:/mingw:/win32/openSUSE_Leap_42.2/repodata/repomd.xml\n",
      "│ [ Info: Downloading https://cache.julialang.org/http://download.opensuse.org/repositories/windows:/mingw:/win64/openSUSE_Leap_42.2/repodata/repomd.xml\n",
      "│ ┌ Info: Packages to install: \n",
      "│ └   join(names(todo), \", \") = \"zlib1, libbz2-1, libstdc++6, libgcc_s_seh1, Osi, Clp, libwinpthread1, libCgl1, libCoinUtils3, Cbc\"\n",
      "│ ┌ Info: Downloading: \n",
      "│ └   name = \"zlib1\"\n",
      "│ ┌ Info: Extracting: \n",
      "│ └   name = \"zlib1\"\n",
      "│ ┌ Info: Downloading: \n",
      "│ └   name = \"libbz2-1\"\n",
      "│ ┌ Info: Extracting: \n",
      "│ └   name = \"libbz2-1\"\n",
      "│ ┌ Info: Downloading: \n",
      "│ └   name = \"libstdc++6\"\n",
      "│ ┌ Info: Extracting: \n",
      "│ └   name = \"libstdc++6\"\n",
      "│ ERROR: LoadError: MethodError: no method matching pipeline_error(::Int64)\n",
      "│ Closest candidates are:\n",
      "│   pipeline_error(!Matched::Base.ProcessChain) at process.jl:711\n",
      "│   pipeline_error(!Matched::Base.Process) at process.jl:704\n",
      "│ Stacktrace:\n",
      "│  [1] macro expansion at .\\logging.jl:307 [inlined] (repeats 2 times)\n",
      "│  [2] do_install(::WinRPM.Package) at C:\\Users\\Devin\\.juliapro\\packages\\WinRPM\\Y9QdZ\\src\\WinRPM.jl:465\n",
      "│  [3] do_install at C:\\Users\\Devin\\.juliapro\\packages\\WinRPM\\Y9QdZ\\src\\WinRPM.jl:456 [inlined]\n",
      "│  [4] macro expansion at .\\logging.jl:318 [inlined]\n",
      "│  [5] #install#19(::Bool, ::Function, ::WinRPM.Package) at C:\\Users\\Devin\\.juliapro\\packages\\WinRPM\\Y9QdZ\\src\\WinRPM.jl:385\n",
      "│  [6] #install at .\\none:0 [inlined]\n",
      "│  [7] #install#17 at C:\\Users\\Devin\\.juliapro\\packages\\WinRPM\\Y9QdZ\\src\\WinRPM.jl:372 [inlined]\n",
      "│  [8] #install at .\\none:0 [inlined] (repeats 2 times)\n",
      "│  [9] (::getfield(WinRPM, Symbol(\"##34#35\")){WinRPM.RPM})() at C:\\Users\\Devin\\.juliapro\\packages\\WinRPM\\Y9QdZ\\src\\winrpm_bindeps.jl:42\n",
      "│  [10] run(::getfield(WinRPM, Symbol(\"##34#35\")){WinRPM.RPM}) at C:\\Users\\Devin\\.juliapro\\packages\\BinDeps\\ZEval\\src\\BinDeps.jl:478\n",
      "│  [11] macro expansion at .\\logging.jl:306 [inlined]\n",
      "│  [12] run(::BinDeps.SynchronousStepCollection) at C:\\Users\\Devin\\.juliapro\\packages\\BinDeps\\ZEval\\src\\BinDeps.jl:518\n",
      "│  [13] satisfy!(::BinDeps.LibraryDependency, ::Array{DataType,1}) at C:\\Users\\Devin\\.juliapro\\packages\\BinDeps\\ZEval\\src\\dependencies.jl:944\n",
      "│  [14] satisfy!(::BinDeps.LibraryDependency) at C:\\Users\\Devin\\.juliapro\\packages\\BinDeps\\ZEval\\src\\dependencies.jl:922\n",
      "│  [15] top-level scope at C:\\Users\\Devin\\.juliapro\\packages\\BinDeps\\ZEval\\src\\dependencies.jl:977\n",
      "│  [16] include at .\\boot.jl:317 [inlined]\n",
      "│  [17] include_relative(::Module, ::String) at .\\loading.jl:1044\n",
      "│  [18] include(::Module, ::String) at .\\sysimg.jl:29\n",
      "│  [19] include(::String) at .\\client.jl:392\n",
      "│  [20] top-level scope at none:0\n",
      "│ in expression starting at C:\\Users\\Devin\\.juliapro\\packages\\Cbc\\CiYDc\\deps\\build.jl:64\n",
      "│ \n",
      "│ 7-Zip [64] 16.04 : Copyright (c) 1999-2016 Igor Pavlov : 2016-10-04\n",
      "│ \n",
      "│ Scanning the drive for archives:\n",
      "└ @ Pkg.Operations C:\\Users\\julia\\AppData\\Local\\Julia-1.0.2\\share\\julia\\stdlib\\v1.0\\Pkg\\src\\Operations.jl:1119\n"
     ]
    }
   ],
   "source": [
    "Pkg.add(\"ECOS\")\n",
    "Pkg.add(\"SCS\")\n",
    "Pkg.add(\"Cbc\")\n",
    "\n",
    "\n",
    "\n"
   ]
  },
  {
   "cell_type": "code",
   "execution_count": null,
   "metadata": {},
   "outputs": [
    {
     "name": "stderr",
     "output_type": "stream",
     "text": [
      "┌ Info: Precompiling ECOS [e2685f51-7e38-5353-a97d-a921fd2c8199]\n",
      "└ @ Base loading.jl:1192\n"
     ]
    }
   ],
   "source": [
    "using JuMP, Clp, ECOS, SCS, Cbc\n",
    "\n",
    "m = Model()\n",
    "\n",
    "@variable(m, 0 <= f <= 1000)           # football trophies\n",
    "@variable(m, 0 <= s <= 1500)           # soccer trophies\n",
    "@constraint(m, 4f + 2s <= 4800)        # total board feet of wood\n",
    "@constraint(m, f + s <= 1750)          # total number of plaques\n",
    "@objective(m, Max, 12f + 12s)           # maximize profit\n",
    "\n",
    "setsolver(m, ClpSolver())\n",
    "#setsolver(m, CbcSolver())\n",
    "#setsolver(m, ECOSSolver(verbose=0))\n",
    "#setsolver(m, SCSSolver(verbose=0))\n",
    "#setsolver(m, GurobiSolver())\n",
    "\n",
    "solve(m)\n",
    "\n",
    "println(status)\n",
    "println(\"Build \", getvalue(f), \" football trophies.\")\n",
    "println(\"Build \", getvalue(s), \" soccer trophies.\")\n",
    "println(\"Total profit will be \\$\", getobjectivevalue(m))"
   ]
  },
  {
   "cell_type": "code",
   "execution_count": null,
   "metadata": {},
   "outputs": [],
   "source": []
  },
  {
   "cell_type": "code",
   "execution_count": null,
   "metadata": {},
   "outputs": [],
   "source": [
    "\n"
   ]
  },
  {
   "cell_type": "code",
   "execution_count": null,
   "metadata": {},
   "outputs": [],
   "source": []
  }
 ],
 "metadata": {
  "kernelspec": {
   "display_name": "Julia 1.0.2",
   "language": "julia",
   "name": "julia-1.0"
  },
  "language_info": {
   "file_extension": ".jl",
   "mimetype": "application/julia",
   "name": "julia",
   "version": "1.0.2"
  }
 },
 "nbformat": 4,
 "nbformat_minor": 1
}
