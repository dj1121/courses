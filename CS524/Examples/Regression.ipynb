{
 "cells": [
  {
   "cell_type": "markdown",
   "metadata": {},
   "source": [
    "# Polynomial regression"
   ]
  },
  {
   "cell_type": "code",
   "execution_count": 2,
   "metadata": {},
   "outputs": [
    {
     "data": {
      "image/png": "[encoded data removed]",
      "text/plain": [
       "Figure(PyObject <Figure size 800x400 with 1 Axes>)"
      ]
     },
     "metadata": {},
     "output_type": "display_data"
    }
   ],
   "source": [
    "# define (x,y) coordinates of the points\n",
    "x = [ 1, 2, 3, 4, 5, 6, 7, 8, 9, 10, 11, 12, 13, 14, 15, 16 ]\n",
    "y = [ 1, 3, 0, 1, 2, 4, 6, 7, 5, 5, 6, 7.2, 5.5,  4, 3.2, 5]\n",
    "\n",
    "using PyPlot\n",
    "figure(figsize=(8,4))\n",
    "plot(x,y,\"r.\", markersize=10)\n",
    "axis([0,16,-2,8])\n",
    "grid(true)"
   ]
  },
  {
   "cell_type": "code",
   "execution_count": 4,
   "metadata": {},
   "outputs": [],
   "source": [
    "# order of polynomial to use\n",
    "k = 2\n",
    "\n",
    "# fit using a function of the form f(x) = u1 x^k + u2 x^(k-1) + ... + uk x + u{k+1}\n",
    "n = length(x)\n",
    "A = zeros(n,k+1)\n",
    "for i = 1:n\n",
    "    for j = 1:k+1\n",
    "        A[i,j] = x[i]^(k+1-j)\n",
    "    end\n",
    "end"
   ]
  },
  {
   "cell_type": "code",
   "execution_count": 5,
   "metadata": {},
   "outputs": [
    {
     "name": "stdout",
     "output_type": "stream",
     "text": [
      "Academic license - for non-commercial use only\n",
      "Optimal\n",
      "0.027563223039215157\n",
      "[-0.0567402, 1.24179, -1.19375]\n"
     ]
    }
   ],
   "source": [
    "# NOTE: must have either Gurobi or Mosek installed!\n",
    "\n",
    "# Solve the LEAST SQUARES polynomial fit\n",
    "\n",
    "using JuMP, Gurobi, Mosek\n",
    "\n",
    "#m = Model(solver=MosekSolver(LOG=0))\n",
    "m = Model(solver=GurobiSolver(OutputFlag=0,BarHomogeneous=1))\n",
    "#m = Model(solver=GurobiSolver(OutputFlag=0,NumericFocus=3,BarHomogeneous=1))\n",
    "\n",
    "@variable(m, u[1:k+1])\n",
    "@objective(m, Min, 1/1000*sum( (y - A*u).^2 ) )\n",
    "\n",
    "status = solve(m)\n",
    "uopt = getvalue(u)\n",
    "println(status)\n",
    "println(getobjectivevalue(m))\n",
    "println(uopt)"
   ]
  },
  {
   "cell_type": "code",
   "execution_count": 7,
   "metadata": {},
   "outputs": [
    {
     "name": "stdout",
     "output_type": "stream",
     "text": [
      "Optimal\n",
      "0.01716666678036434\n",
      "[-0.0333333, 0.833333, 0.2]\n"
     ]
    }
   ],
   "source": [
    "# NOTE: must have either Gurobi or Mosek installed!\n",
    "\n",
    "# Solve the L_1 NORM polynomial fit. \n",
    "# Note: We MUST use an LP solver for this! \n",
    "# When using the L_1 criterion, there is no equivalent of the normal equations or the backslash command.\n",
    "\n",
    "using JuMP, Gurobi, Mosek\n",
    "\n",
    "m = Model(solver=MosekSolver(LOG=0))\n",
    "m = Model(solver=GurobiSolver(OutputFlag=0,BarHomogeneous=1))\n",
    "#m = Model(solver=GurobiSolver(OutputFlag=0,NumericFocus=3,BarHomogeneous=1))\n",
    "\n",
    "@variable(m, u[1:k+1])\n",
    "@variable(m, t[1:n] >= 0)\n",
    "@constraint(m, y-A*u .<= t)\n",
    "@constraint(m, A*u-y .<= t)\n",
    "@objective(m, Min, 1/1000*sum(t))\n",
    "\n",
    "status = solve(m)\n",
    "uopt_l1 = getvalue(u)\n",
    "println(status)\n",
    "println(getobjectivevalue(m))\n",
    "println(uopt_l1)"
   ]
  },
  {
   "cell_type": "code",
   "execution_count": 14,
   "metadata": {},
   "outputs": [
    {
     "name": "stdout",
     "output_type": "stream",
     "text": [
      "[-0.0567402, 1.24179, -1.19375]\n"
     ]
    },
    {
     "data": {
      "text/plain": [
       "0.027563223039215688"
      ]
     },
     "execution_count": 14,
     "metadata": {},
     "output_type": "execute_result"
    }
   ],
   "source": [
    "# Compute the LEAST SQUARES fit directly from normal equations\n",
    "\n",
    "uopt2=inv(A'*A)*(A'*y)\n",
    "println(uopt2)\n",
    "residual2=1/1000*sum((y-A*uopt2).^2)"
   ]
  },
  {
   "cell_type": "code",
   "execution_count": 54,
   "metadata": {},
   "outputs": [
    {
     "data": {
      "text/plain": [
       "8-element Array{Float64,1}:\n",
       "   5.63576e-5\n",
       "  -0.00336026\n",
       "   0.0805037 \n",
       "  -0.988186  \n",
       "   6.54486   \n",
       " -22.5034    \n",
       "  35.6905    \n",
       " -17.7231    "
      ]
     },
     "execution_count": 54,
     "metadata": {},
     "output_type": "execute_result"
    }
   ],
   "source": [
    "# Compute the LEAST SQUARES fit from the backslash command\n",
    "\n",
    "uopt3=A\\y"
   ]
  },
  {
   "cell_type": "code",
   "execution_count": 1,
   "metadata": {},
   "outputs": [
    {
     "ename": "MethodError",
     "evalue": "MethodError: no method matching range(::Int64, ::Int64, ::Int64)\nClosest candidates are:\n  range(::Any, ::Any; kwargs...) at C:\\Users\\dj112\\.juliapro\\JuliaPro_v1.0.3.1\\packages\\Compat\\rVDy7\\src\\Compat.jl:1887\n  range(::Any; length, stop, step) at range.jl:76",
     "output_type": "error",
     "traceback": [
      "MethodError: no method matching range(::Int64, ::Int64, ::Int64)\nClosest candidates are:\n  range(::Any, ::Any; kwargs...) at C:\\Users\\dj112\\.juliapro\\JuliaPro_v1.0.3.1\\packages\\Compat\\rVDy7\\src\\Compat.jl:1887\n  range(::Any; length, stop, step) at range.jl:76",
      "",
      "Stacktrace:",
      " [1] top-level scope at In[1]:3"
     ]
    }
   ],
   "source": [
    "using PyPlot\n",
    "npts = 100\n",
    "xfine = linspace(0,16,npts)\n",
    "ffine = ones(npts)\n",
    "for j = 1:k\n",
    "    ffine = [ffine.*xfine ones(npts)]\n",
    "end\n",
    "yfine = ffine * uopt\n",
    "figure(figsize=(8,4))\n",
    "plot( x, y, \"r.\", markersize=10)\n",
    "plot( xfine, yfine, \"b-\")\n",
    "axis([0,16,-2,8])\n",
    "grid()"
   ]
  },
  {
   "cell_type": "code",
   "execution_count": 62,
   "metadata": {},
   "outputs": [
    {
     "name": "stdout",
     "output_type": "stream",
     "text": [
      "UnknownError\n",
      "[5.64375e-5, -0.00336508, 0.0806203, -0.989636, 6.55466, -22.5384, 35.7491, -17.7564]\n"
     ]
    },
    {
     "name": "stderr",
     "output_type": "stream",
     "text": [
      "\u001b[1m\u001b[33mWARNING: \u001b[39m\u001b[22m\u001b[33mNot solved to optimality, status: UnknownError\u001b[39m\n"
     ]
    }
   ],
   "source": [
    "# NOTE: problem can be solved using ECOS or SCS if written as an \"SOCP\" --- more on this later!\n",
    "# Here is a working example:\n",
    "\n",
    "using JuMP, ECOS, SCS\n",
    "\n",
    "#m = Model(solver=ECOSSolver(verbose=false))\n",
    "m = Model(solver=SCSSolver(verbose=false))\n",
    "\n",
    "@variable(m, u[1:k+1])\n",
    "@variable(m, t)\n",
    "@constraint(m, norm(y - A*u) <= t)\n",
    "@objective(m, Min, t)\n",
    "\n",
    "status = solve(m)\n",
    "uopt = getvalue(u)\n",
    "println(status)\n",
    "println(uopt)"
   ]
  },
  {
   "cell_type": "code",
   "execution_count": null,
   "metadata": {},
   "outputs": [],
   "source": []
  }
 ],
 "metadata": {
  "kernelspec": {
   "display_name": "Julia 1.0.3",
   "language": "julia",
   "name": "julia-1.0"
  },
  "language_info": {
   "file_extension": ".jl",
   "mimetype": "application/julia",
   "name": "julia",
   "version": "1.0.3"
  }
 },
 "nbformat": 4,
 "nbformat_minor": 1
}
