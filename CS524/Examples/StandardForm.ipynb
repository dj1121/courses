{
 "cells": [
  {
   "cell_type": "markdown",
   "metadata": {},
   "source": [
    "# Standard Form conversion\n",
    "\n",
    "Convert the following linear program into standard form:\n",
    "\n",
    "$$\\begin{aligned}\n",
    "\\text{minimize}\\qquad& p + q\\\\\n",
    "\\text{subject to:}\\qquad& 5p - 3q = 7 \\\\\n",
    "& 2p + q \\ge 2 \\\\\n",
    "& 1 \\le q \\le 4\n",
    "\\end{aligned}$$"
   ]
  },
  {
   "cell_type": "markdown",
   "metadata": {},
   "source": [
    "### Original problem"
   ]
  },
  {
   "cell_type": "code",
   "execution_count": 1,
   "metadata": {
    "scrolled": true
   },
   "outputs": [
    {
     "data": {
      "text/latex": [
       "$$ \\begin{alignat*}{1}\\min\\quad & p + q\\\\\n",
       "\\text{Subject to} \\quad & 5 p - 3 q = 7\\\\\n",
       " & 2 p + q \\geq 2\\\\\n",
       " & p\\\\\n",
       " & 1 \\leq q \\leq 4\\\\\n",
       "\\end{alignat*}\n",
       " $$"
      ],
      "text/plain": [
       "Minimization problem with:\n",
       " * 2 linear constraints\n",
       " * 2 variables\n",
       "Solver is Clp"
      ]
     },
     "execution_count": 1,
     "metadata": {},
     "output_type": "execute_result"
    }
   ],
   "source": [
    "using JuMP, Clp\n",
    "\n",
    "original = Model(solver=ClpSolver())\n",
    "@variable(original, p)\n",
    "@variable(original, 1 <= q <= 4 )\n",
    "@constraint(original, 5p - 3q == 7 )\n",
    "@constraint(original, 2p + q >= 2 )\n",
    "@objective(original, Min, p + q )\n",
    "\n",
    "original"
   ]
  },
  {
   "cell_type": "markdown",
   "metadata": {},
   "source": [
    "### Standard form\n",
    "should look like:\n",
    "$$\\begin{aligned}\n",
    "\\text{maximize}\\qquad& c^T x\\\\\n",
    "\\text{subject to:}\\qquad& Ax \\le b\\\\\n",
    "& x \\ge 0\n",
    "\\end{aligned}$$"
   ]
  },
  {
   "cell_type": "code",
   "execution_count": 9,
   "metadata": {},
   "outputs": [
    {
     "data": {
      "text/latex": [
       "$$ \\begin{alignat*}{1}\\max\\quad & -u + v - w - 1\\\\\n",
       "\\text{Subject to} \\quad & w \\leq 3\\\\\n",
       " & -5 u + 5 v + 3 w \\leq -10\\\\\n",
       " & 5 u - 5 v - 3 w \\leq 10\\\\\n",
       " & -2 u + 2 v - w \\leq -1\\\\\n",
       " & u \\geq 0\\\\\n",
       " & v \\geq 0\\\\\n",
       " & w \\geq 0\\\\\n",
       "\\end{alignat*}\n",
       " $$"
      ],
      "text/plain": [
       "Maximization problem with:\n",
       " * 4 linear constraints\n",
       " * 3 variables\n",
       "Solver is Clp"
      ]
     },
     "execution_count": 9,
     "metadata": {},
     "output_type": "execute_result"
    }
   ],
   "source": [
    "using JuMP, Clp\n",
    "\n",
    "standard = Model(solver=ClpSolver())\n",
    "@variable(standard, u >= 0 )\n",
    "@variable(standard, v >= 0 )\n",
    "@variable(standard, w >= 0 )\n",
    "@constraint(standard, (w+1) <= 4 )\n",
    "@constraint(standard, -5(u-v) + 3(w+1) <= -7 )\n",
    "@constraint(standard, 5(u-v) - 3(w+1) <= 7 )\n",
    "@constraint(standard, -2(u-v) - (w+1) <= -2 )\n",
    "@objective(standard, Max, -(u-v) - (w+1) )\n",
    "\n",
    "standard"
   ]
  },
  {
   "cell_type": "markdown",
   "metadata": {},
   "source": [
    "### Standard form (compact)"
   ]
  },
  {
   "cell_type": "code",
   "execution_count": 19,
   "metadata": {},
   "outputs": [
    {
     "data": {
      "text/latex": [
       "$$ \\begin{alignat*}{1}\\max\\quad & -x_{1} + x_{2} - x_{3}\\\\\n",
       "\\text{Subject to} \\quad & x_{3} \\leq 3\\\\\n",
       " & -5 x_{1} + 5 x_{2} + 3 x_{3} \\leq -10\\\\\n",
       " & 5 x_{1} - 5 x_{2} - 3 x_{3} \\leq 10\\\\\n",
       " & -2 x_{1} + 2 x_{2} - x_{3} \\leq -1\\\\\n",
       " & x_{i} \\geq 0 \\quad\\forall i \\in \\{1,2,3\\}\\\\\n",
       "\\end{alignat*}\n",
       " $$"
      ],
      "text/plain": [
       "Maximization problem with:\n",
       " * 4 linear constraints\n",
       " * 3 variables\n",
       "Solver is Clp"
      ]
     },
     "execution_count": 19,
     "metadata": {},
     "output_type": "execute_result"
    }
   ],
   "source": [
    "# we defined the vector x to be: x = [u;  v;  w]\n",
    "A = [0 0 1; -5 5 3; 5 -5 -3; -2 2 -1]\n",
    "b = [3; -10; 10; -1]\n",
    "c = [-1; 1; -1]\n",
    "\n",
    "using JuMP, Clp\n",
    "\n",
    "compact = Model(solver=ClpSolver())\n",
    "@variable(compact, x[1:3] >= 0 )      # specify a vector variable x\n",
    "@constraint(compact, A*x .<= b )      # the dot in front of <=, \n",
    "                                      # which indicates element-wise (vector) inequalities\n",
    "@objective(compact, Max, c'*x )       # Note the transpose of the cost vector c\n",
    "\n",
    "compact"
   ]
  },
  {
   "cell_type": "markdown",
   "metadata": {},
   "source": [
    "### Lets try to solve the problem"
   ]
  },
  {
   "cell_type": "markdown",
   "metadata": {},
   "source": [
    "The different ways of writing the problem should be \\emph{equivalent}. We solve all three to check that we get the same solution."
   ]
  },
  {
   "cell_type": "code",
   "execution_count": 21,
   "metadata": {},
   "outputs": [
    {
     "name": "stdout",
     "output_type": "stream",
     "text": [
      "Original problem formulation\n",
      "Min p + q\n",
      "Subject to\n",
      " 5 p - 3 q = 7\n",
      " 2 p + q ≥ 2\n",
      " p\n",
      " 1 ≤ q ≤ 4\n",
      "\n",
      "Optimal\n",
      "\n",
      "p = 2.0\n",
      "q = 1.0\n",
      "objective = 3.0\n",
      "\n",
      "\n",
      "Problem on standard form\n",
      "Max -u + v - w - 1\n",
      "Subject to\n",
      " w ≤ 3\n",
      " -5 u + 5 v + 3 w ≤ -10\n",
      " 5 u - 5 v - 3 w ≤ 10\n",
      " -2 u + 2 v - w ≤ -1\n",
      " u ≥ 0\n",
      " v ≥ 0\n",
      " w ≥ 0\n",
      "\n",
      "Optimal\n",
      "\n",
      "p = 2.0\n",
      "q = 1.0\n",
      "objective = 3.0\n",
      "\n",
      "\n",
      "Problem in compact standard form\n",
      "Max -x[1] + x[2] - x[3]\n",
      "Subject to\n",
      " x[3] ≤ 3\n",
      " -5 x[1] + 5 x[2] + 3 x[3] ≤ -10\n",
      " 5 x[1] - 5 x[2] - 3 x[3] ≤ 10\n",
      " -2 x[1] + 2 x[2] - x[3] ≤ -1\n",
      " x[i] ≥ 0 ∀ i ∈ {1,2,3}\n",
      "\n",
      "Optimal\n",
      "\n",
      "p = 2.0\n",
      "q = 1.0\n",
      "objective = 3.0\n"
     ]
    }
   ],
   "source": [
    "println(\"Original problem formulation\")\n",
    "\n",
    "status = solve(original)\n",
    "\n",
    "println(original)\n",
    "println(status)\n",
    "println()\n",
    "println(\"p = \", getvalue(p) )\n",
    "println(\"q = \", getvalue(q) )\n",
    "println(\"objective = \", getobjectivevalue(original) )\n",
    "println()\n",
    "println()\n",
    "\n",
    "println(\"Problem on standard form\")\n",
    "\n",
    "status = solve(standard)\n",
    "\n",
    "println(standard)\n",
    "println(status)\n",
    "println()\n",
    "println(\"p = \", getvalue(u-v) )\n",
    "println(\"q = \", getvalue(w+1) )\n",
    "println(\"objective = \", -getobjectivevalue(standard) )\n",
    "println()\n",
    "println()\n",
    "\n",
    "println(\"Problem in compact standard form\")\n",
    "\n",
    "status = solve(compact)\n",
    "\n",
    "println(compact)\n",
    "println(status)\n",
    "println()\n",
    "println(\"p = \", getvalue(x[1]-x[2]) )\n",
    "println(\"q = \", getvalue(x[3]+1) )\n",
    "println(\"objective = \", -(getobjectivevalue(compact)-1) )"
   ]
  }
 ],
 "metadata": {
  "kernelspec": {
   "display_name": "Julia 1.0.2",
   "language": "julia",
   "name": "julia-1.0"
  },
  "language_info": {
   "file_extension": ".jl",
   "mimetype": "application/julia",
   "name": "julia",
   "version": "1.0.2"
  }
 },
 "nbformat": 4,
 "nbformat_minor": 1
}
