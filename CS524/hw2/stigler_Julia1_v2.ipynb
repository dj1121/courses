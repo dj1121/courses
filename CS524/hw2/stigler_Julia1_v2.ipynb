{
 "cells": [
  {
   "cell_type": "code",
   "execution_count": null,
   "metadata": {
    "scrolled": true
   },
   "outputs": [],
   "source": [
    "# STARTER CODE FOR STIGLER'S DIET PROBLEM\n",
    "using CSV\n",
    "\n",
    "# import Stigler's data set\n",
    "raw = CSV.read(\"stigler.csv\")"
   ]
  },
  {
   "cell_type": "code",
   "execution_count": null,
   "metadata": {},
   "outputs": [],
   "source": [
    "# Get data\n",
    "\n",
    "# list of food\n",
    "foods = raw[2:end,1]\n",
    "\n",
    "# list of nutrients\n",
    "nutrients = [string(names(raw)[i]) for i=2:length(names(raw))]\n",
    "\n",
    "# minimum required amount of each nutrient\n",
    "lower_bound = raw[1,2:end]\n",
    "\n",
    "# data[f,i] is the amount of nutrient i contained in food f \n",
    "data = raw[2:end,2:end]\n",
    "\n",
    "# Note: data is not a matrix, but a dataframe. \n",
    "# You can access individual elements as if it was a matrix:\n",
    "a = data[1,1]   # get the first element \n",
    "println(\"The nutrient ($(nutrients[1])) in food ($(foods[1])) is $a\")\n",
    "typeof(a)       # will tell you that a is a floating point number"
   ]
  },
  {
   "cell_type": "code",
   "execution_count": 7,
   "metadata": {},
   "outputs": [
    {
     "data": {
      "text/html": [
       "<p>DataFrameRow</p><table class=\"data-frame\"><thead><tr><th></th><th>Calories (1000)</th><th>Protein (g)</th><th>Calcium (g)</th><th>Iron (mg)</th><th>Vitamin A (1000 IU)</th><th>Thiamine (mg)</th><th>Riboflavin (mg)</th><th>Niacin (mg)</th><th>Ascorbic Acid (mg)</th></tr><tr><th></th><th>Float64⍰</th><th>Int64⍰</th><th>Float64⍰</th><th>Int64⍰</th><th>Float64⍰</th><th>Float64⍰</th><th>Float64⍰</th><th>Int64⍰</th><th>Int64⍰</th></tr></thead><tbody><p>1 rows × 9 columns</p><tr><th>1</th><td>3.0</td><td>70</td><td>0.8</td><td>12</td><td>5.0</td><td>1.8</td><td>2.7</td><td>18</td><td>75</td></tr></tbody></table>"
      ],
      "text/latex": [
       "\\begin{tabular}{r|ccccccccc}\n",
       "\t& Calories (1000) & Protein (g) & Calcium (g) & Iron (mg) & Vitamin A (1000 IU) & Thiamine (mg) & Riboflavin (mg) & Niacin (mg) & Ascorbic Acid (mg)\\\\\n",
       "\t\\hline\n",
       "\t& Float64⍰ & Int64⍰ & Float64⍰ & Int64⍰ & Float64⍰ & Float64⍰ & Float64⍰ & Int64⍰ & Int64⍰\\\\\n",
       "\t\\hline\n",
       "\t1 & 3.0 & 70 & 0.8 & 12 & 5.0 & 1.8 & 2.7 & 18 & 75 \\\\\n",
       "\\end{tabular}\n"
      ],
      "text/plain": [
       "DataFrameRow. Omitted printing of 5 columns\n",
       "│ Row │ Calories (1000) │ Protein (g) │ Calcium (g) │ Iron (mg) │\n",
       "│     │ \u001b[90mFloat64⍰\u001b[39m        │ \u001b[90mInt64⍰\u001b[39m      │ \u001b[90mFloat64⍰\u001b[39m    │ \u001b[90mInt64⍰\u001b[39m    │\n",
       "├─────┼─────────────────┼─────────────┼─────────────┼───────────┤\n",
       "│ 1   │ 3.0             │ 70          │ 0.8         │ 12        │"
      ]
     },
     "execution_count": 7,
     "metadata": {},
     "output_type": "execute_result"
    }
   ],
   "source": [
    "lower_bound = raw[1,2:end]"
   ]
  },
  {
   "cell_type": "code",
   "execution_count": null,
   "metadata": {},
   "outputs": [],
   "source": []
  }
 ],
 "metadata": {
  "kernelspec": {
   "display_name": "Julia 1.0.2",
   "language": "julia",
   "name": "julia-1.0"
  },
  "language_info": {
   "file_extension": ".jl",
   "mimetype": "application/julia",
   "name": "julia",
   "version": "1.0.2"
  }
 },
 "nbformat": 4,
 "nbformat_minor": 1
}
